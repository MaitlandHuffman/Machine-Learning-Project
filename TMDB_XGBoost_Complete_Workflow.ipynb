{
 "cells": [
  {
   "cell_type": "markdown",
   "id": "e7783548",
   "metadata": {},
   "source": [
    "# 🎬 TMDB XGBoost Modeling Notebook\n",
    "\n",
    "This notebook replicates and builds upon the Exploratory Data Analysis by training and evaluating XGBoost models for both classification and regression."
   ]
  },
  {
   "cell_type": "code",
   "execution_count": null,
   "id": "aff9ae2e",
   "metadata": {},
   "outputs": [],
   "source": [
    "# Imports\n",
    "import pandas as pd\n",
    "import numpy as np\n",
    "import matplotlib.pyplot as plt\n",
    "import seaborn as sns\n",
    "import xgboost as xgb\n",
    "from xgboost import XGBClassifier, XGBRegressor\n",
    "from sklearn.model_selection import train_test_split, GridSearchCV\n",
    "from sklearn.metrics import accuracy_score, confusion_matrix, classification_report, mean_squared_error, r2_score\n",
    "import shap"
   ]
  },
  {
   "cell_type": "code",
   "execution_count": null,
   "id": "1429e2ec",
   "metadata": {},
   "outputs": [],
   "source": [
    "# Load the dataset\n",
    "df = pd.read_csv('Dataset.csv')\n",
    "\n",
    "# Feature Engineering (from EDA)\n",
    "df['budget_log'] = np.log1p(df['budget'])\n",
    "df['revenue_log'] = np.log1p(df['revenue'])\n",
    "df['roi'] = (df['revenue'] - df['budget']) / (df['budget'] + 1e-6)\n",
    "\n",
    "# Classification label based on vote_average\n",
    "# Create classification labels from vote_average\n",
    "def classify_score(v):\n",
    "    if v >= 7.5:\n",
    "        return 'High'\n",
    "    elif v >= 5.5:\n",
    "        return 'Medium'\n",
    "    else:\n",
    "        return 'Low'\n",
    "\n",
    "# Apply label and filter missing values\n",
    "df = df[df['vote_average'].notna()].copy()\n",
    "df['score_class'] = df['vote_average'].apply(classify_score)\n",
    "\n",
    "# Encode labels numerically for XGBoost\n",
    "from sklearn.preprocessing import LabelEncoder\n",
    "\n",
    "le = LabelEncoder()\n",
    "df['score_class_encoded'] = le.fit_transform(df['score_class'])\n",
    "\n",
    "# Define features and target\n",
    "features = ['budget_log', 'revenue_log', 'popularity', 'runtime', 'roi']\n",
    "X = df[features]\n",
    "y_class = df['score_class_encoded']\n",
    "\n",
    "# Train/test split\n",
    "from sklearn.model_selection import train_test_split\n",
    "\n",
    "X_train, X_test, y_train, y_test = train_test_split(\n",
    "    X, y_class, test_size=0.2, stratify=y_class, random_state=42\n",
    ")\n"
   ]
  },
  {
   "cell_type": "code",
   "execution_count": 4,
   "id": "dc8ea4ec",
   "metadata": {},
   "outputs": [],
   "source": [
    "# Define features and targets\n",
    "features = ['budget_log', 'revenue_log', 'popularity', 'runtime', 'roi']\n",
    "X = df[features]\n",
    "y_class = df['score_class']\n",
    "y_reg = df['vote_average']"
   ]
  },
  {
   "cell_type": "code",
   "execution_count": 5,
   "id": "26dcf415",
   "metadata": {},
   "outputs": [],
   "source": [
    "# Classification: Train/Test Split\n",
    "X_train, X_test, y_train, y_test = train_test_split(X, y_class, test_size=0.2, stratify=y_class, random_state=42)"
   ]
  },
  {
   "cell_type": "code",
   "execution_count": null,
   "id": "e184d134",
   "metadata": {},
   "outputs": [],
   "source": [
    "\n",
    "\n",
    "\n",
    "# Train XGBoost Classifier\n",
    "clf = XGBClassifier(n_estimators=100, learning_rate=0.1, max_depth=5,\n",
    "                   subsample=0.8, colsample_bytree=0.8,\n",
    "                   random_state=42, use_label_encoder=False,\n",
    "                   eval_metric='mlogloss')\n",
    "clf.fit(X_train, y_train)\n",
    "\n",
    "\n",
    "y_pred = clf.predict(X_test)\n",
    "\n",
    "print('Accuracy:', accuracy_score(y_test, y_pred))\n",
    "print(confusion_matrix(y_test, y_pred))\n",
    "print(classification_report(y_test, y_pred))"
   ]
  },
  {
   "cell_type": "code",
   "execution_count": null,
   "id": "9cb4cc37",
   "metadata": {},
   "outputs": [],
   "source": [
    "# Tune Classifier with GridSearchCV\n",
    "param_grid = {\n",
    "    'n_estimators': [100, 200],\n",
    "    'max_depth': [3, 5, 7],\n",
    "    'learning_rate': [0.01, 0.1, 0.2],\n",
    "    'subsample': [0.6, 0.8, 1.0],\n",
    "    'colsample_bytree': [0.6, 0.8, 1.0]\n",
    "}\n",
    "grid = GridSearchCV(XGBClassifier(use_label_encoder=False, eval_metric='mlogloss'),\n",
    "                    param_grid, cv=3, verbose=1, n_jobs=-1)\n"
   ]
  },
  {
   "cell_type": "code",
   "execution_count": null,
   "id": "45efbd96",
   "metadata": {},
   "outputs": [],
   "source": [
    "grid.fit(X_train, y_train)\n",
    "print(\"Best parameters:\", grid.best_params_)"
   ]
  },
  {
   "cell_type": "code",
   "execution_count": null,
   "id": "3e012ec0",
   "metadata": {},
   "outputs": [],
   "source": []
  },
  {
   "cell_type": "code",
   "execution_count": null,
   "id": "88b019d9",
   "metadata": {},
   "outputs": [],
   "source": [
    "# SHAP and Feature Importance for Classifier\n",
    "xgb.plot_importance(clf)\n",
    "plt.tight_layout()\n",
    "plt.show()\n",
    "\n",
    "explainer = shap.Explainer(clf)\n",
    "shap_values = explainer(X_test)\n",
    "shap.plots.beeswarm(shap_values)"
   ]
  },
  {
   "cell_type": "code",
   "execution_count": null,
   "id": "0f3e10f3",
   "metadata": {},
   "outputs": [],
   "source": [
    "# Regression: Train/Test Split\n",
    "X_train_reg, X_test_reg, y_train_reg, y_test_reg = train_test_split(X, y_reg, test_size=0.2, random_state=42)"
   ]
  },
  {
   "cell_type": "code",
   "execution_count": null,
   "id": "790fa507",
   "metadata": {},
   "outputs": [],
   "source": [
    "# Train XGBoost Regressor\n",
    "reg = XGBRegressor(n_estimators=100, learning_rate=0.1, max_depth=5,\n",
    "                  subsample=0.8, colsample_bytree=0.8,\n",
    "                  random_state=42)\n",
    "reg.fit(X_train_reg, y_train_reg)\n",
    "y_pred_reg = reg.predict(X_test_reg)\n",
    "\n",
    "print('MSE:', mean_squared_error(y_test_reg, y_pred_reg))\n",
    "print('R² Score:', r2_score(y_test_reg, y_pred_reg))"
   ]
  },
  {
   "cell_type": "code",
   "execution_count": null,
   "id": "e068deeb",
   "metadata": {},
   "outputs": [],
   "source": [
    "# SHAP and Feature Importance for Regressor\n",
    "xgb.plot_importance(reg)\n",
    "plt.tight_layout()\n",
    "plt.show()\n",
    "\n",
    "explainer_reg = shap.Explainer(reg)\n",
    "shap_values_reg = explainer_reg(X_test_reg)\n",
    "shap.plots.beeswarm(shap_values_reg)"
   ]
  },
  {
   "cell_type": "code",
   "execution_count": null,
   "id": "c084e4c3",
   "metadata": {},
   "outputs": [],
   "source": []
  }
 ],
 "metadata": {
  "kernelspec": {
   "display_name": ".venv",
   "language": "python",
   "name": "python3"
  },
  "language_info": {
   "codemirror_mode": {
    "name": "ipython",
    "version": 3
   },
   "file_extension": ".py",
   "mimetype": "text/x-python",
   "name": "python",
   "nbconvert_exporter": "python",
   "pygments_lexer": "ipython3",
   "version": "3.9.6"
  }
 },
 "nbformat": 4,
 "nbformat_minor": 5
}
