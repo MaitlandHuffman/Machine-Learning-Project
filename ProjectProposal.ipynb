{
 "cells": [
  {
   "cell_type": "markdown",
   "metadata": {},
   "source": [
    "#  As Movie Budgets are Increased, Do Review Scores and Movie Popularity Correlate?\n",
    "**Authors: James Allen & Maitland Huffman** "
   ]
  },
  {
   "cell_type": "markdown",
   "metadata": {},
   "source": [
    "## Project Summary\n",
    "In this project, our goal is to determine if there is a positive, or any correlation with regards to movie budgets, popularity and their review scores. Using the full tmbd movies dataset, this will allow us to use classification to determine any correlation between the three variables of movie budgets and movie review scores."
   ]
  },
  {
   "cell_type": "markdown",
   "metadata": {},
   "source": [
    "## Problem Statement \n",
    "\n",
    "Does increasing the budget of a movie increase said movie's review score and/or popularity, or is there no significant correlation between the three aspects?"
   ]
  },
  {
   "cell_type": "markdown",
   "metadata": {},
   "source": []
  },
  {
   "cell_type": "markdown",
   "metadata": {},
   "source": []
  },
  {
   "cell_type": "markdown",
   "metadata": {},
   "source": [
    "## Dataset \n",
    "The dataset that we will use for our machine learning project is the full tmbd movies dataset located [here](https://huggingface.co/datasets/ada-datadruids/full_tmdb_movies_dataset).\n",
    "\n",
    "Instances: The dataset contains 1,142,342 rows, allowing for in-depth analysis across a wide range of films.\n",
    "Attributes: The dataset features a variety of attributes, including:\n",
    "\n",
    "- Budget\n",
    "- Revenue\n",
    "- Release date\n",
    "- Genres\n",
    "- Production companies\n",
    "- Cast and crew information\n",
    "- User ratings\n",
    "- Critical reviews\n",
    "- Box office performance"
   ]
  },
  {
   "cell_type": "markdown",
   "metadata": {},
   "source": [
    "## Exploratory Data Analysis \n",
    "\n",
    "<Complete for **Project Progress**>\n",
    "* What EDA graphs you are planning to use? \n",
    "* Why? - Add figures if any\n",
    "\n",
    "<Expand and complete for the **Project Submission**>\n",
    "* Describe the methods you explored (usually algorithms, or data wrangling approaches). \n",
    "  * Include images. \n",
    "* Justify methods for feature normalization selection and the modeling approach you are planning to use. "
   ]
  },
  {
   "cell_type": "markdown",
   "metadata": {},
   "source": [
    "## Data Preprocessing \n",
    "\n",
    "<Complete for *Project Progress*>\n",
    "* Have you considered Dimensionality Reduction or Scaling? \n",
    "  * If yes, include steps here.  \n",
    "* What did you consider but *not* use? Why? \n",
    "\n",
    "<Expand and complete for **Project Submission**>"
   ]
  },
  {
   "cell_type": "markdown",
   "metadata": {},
   "source": [
    "## Machine Learning Approaches\n",
    "\n",
    "<Complete for **Project Progress**>\n",
    "\n",
    "* What is your baseline evaluation setup? Why? \n",
    "* Describe the ML methods that you consider using and what is the reason for their choice? \n",
    "   * What is the family of machine learning algorithms you are using and why?\n",
    "\n",
    "<Expand and complete for **Project Submission**>\n",
    "\n",
    "* Describe the methods/datasets (you can have unscaled, selected, scaled version, multiple data farmes) that you ended up using for modeling. \n",
    "\n",
    "* Justify the selection of machine learning tools you have used\n",
    "  * How they informed the next steps? \n",
    "* Make sure to include at least twp models: (1) baseline model, and (2) improvement model(s).  \n",
    "   * The baseline model  is typically the simplest model that's applicable to that data problem, something we have learned in the class. \n",
    "   * Improvement model(s) are available on Kaggle challenge site, and you can research github.com and papers with code for approaches.  "
   ]
  },
  {
   "cell_type": "markdown",
   "metadata": {},
   "source": [
    "## Experiments \n",
    "\n",
    "< **Project Progress** should include experiments you have completed thus far.>\n",
    "\n",
    "<**Project Submission** should only contain final version of the experiments. Please use visualizations whenever possible.>\n",
    "* Describe how did you evaluate your solution \n",
    "  * What evaluation metrics did you use? \n",
    "* Describe a baseline model. \n",
    "  * How much did your model outperform the baseline?  \n",
    "* Were there other models evaluated on the same dataset(s)? \n",
    "  * How did your model do in comparison to theirs? \n",
    "  * Show graphs/tables with results \n",
    "  * Present error analysis and suggestions for future improvement. "
   ]
  },
  {
   "cell_type": "markdown",
   "metadata": {},
   "source": [
    "## Conclusion\n",
    "<Complete for the **Project Submission**>\n",
    "* What did not work? \n",
    "* What do you think why? \n",
    "* What were approaches, tuning model parameters you have tried? \n",
    "* What features worked well and what didn't? \n",
    "* When describing methods that didn't work, make clear how they failed and any evaluation metrics you used to decide so. \n",
    "* How was that a data-driven decision? Be consise, all details can be left in .ipynb"
   ]
  }
 ],
 "metadata": {
  "kernelspec": {
   "display_name": "Python 3",
   "language": "python",
   "name": "python3"
  },
  "language_info": {
   "name": "python",
   "version": "3.12.2"
  }
 },
 "nbformat": 4,
 "nbformat_minor": 2
}
